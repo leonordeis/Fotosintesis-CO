{
  "nbformat": 4,
  "nbformat_minor": 0,
  "metadata": {
    "colab": {
      "provenance": [],
      "authorship_tag": "ABX9TyPN/CQNx1QlwvFBGXiHMvxT",
      "include_colab_link": true
    },
    "kernelspec": {
      "name": "python3",
      "display_name": "Python 3"
    },
    "language_info": {
      "name": "python"
    }
  },
  "cells": [
    {
      "cell_type": "markdown",
      "metadata": {
        "id": "view-in-github",
        "colab_type": "text"
      },
      "source": [
        "<a href=\"https://colab.research.google.com/github/leonordeis/Fotosintesis-CO/blob/main/Untitled9.ipynb\" target=\"_parent\"><img src=\"https://colab.research.google.com/assets/colab-badge.svg\" alt=\"Open In Colab\"/></a>"
      ]
    },
    {
      "cell_type": "code",
      "execution_count": null,
      "metadata": {
        "id": "ggaFH62q-Lh9"
      },
      "outputs": [],
      "source": [
        "import streamlit as st\n",
        "import numpy as np\n",
        "import matplotlib.pyplot as plt\n",
        "\n",
        "# Función de fotosíntesis neta modificada por estado hídrico (Ψ)\n",
        "def fotosintesis_net_hidrica(PAR, psi, Amax_base=20, Km=300, Rd=2):\n",
        "    \"\"\"\n",
        "    psi: Potencial hídrico en MPa (entre -1.5 y 0). Amax disminuye con el estrés hídrico.\n",
        "    \"\"\"\n",
        "    # Se asume que Amax se reduce linealmente desde 100% a 0% entre 0 y -1.5 MPa\n",
        "    factor_hidrico = max(0, (psi + 1.5) / 1.5)  # de 0 (sin fotosíntesis) a 1 (sin estrés)\n",
        "    Amax = Amax_base * factor_hidrico\n",
        "    return (Amax * PAR) / (Km + PAR) - Rd\n",
        "\n",
        "def main():\n",
        "    st.title(\"Fotosíntesis vs Intensidad Luminosa y Estado Hídrico\")\n",
        "    st.markdown(\"\"\"\n",
        "    Modifica el **estado hídrico**\n"
      ]
    }
  ]
}